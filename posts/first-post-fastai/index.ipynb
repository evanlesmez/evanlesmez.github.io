{
 "cells": [
  {
   "cell_type": "raw",
   "id": "33985d40-d01e-4748-ad94-053844f228b6",
   "metadata": {
    "tags": []
   },
   "source": [
    "---\n",
    "# draft: true\n",
    "title: \"First Post: FastAI\"\n",
    "author: \"Evan Lesmez\"\n",
    "date: \"2023-04-21\"\n",
    "categories: [news, fastai, deeplearning]\n",
    "# image: \"image.png\"\n",
    "\n",
    "---"
   ]
  },
  {
   "cell_type": "code",
   "execution_count": 2,
   "id": "ce53c3d2-902b-496e-bd9a-fb903c072cde",
   "metadata": {
    "tags": []
   },
   "outputs": [
    {
     "data": {
      "text/plain": [
       "2"
      ]
     },
     "execution_count": 2,
     "metadata": {},
     "output_type": "execute_result"
    }
   ],
   "source": [
    "1 + 1"
   ]
  },
  {
   "cell_type": "code",
   "execution_count": null,
   "id": "5734632d-4752-49c8-9e24-9c336d2c9152",
   "metadata": {},
   "outputs": [],
   "source": []
  }
 ],
 "metadata": {
  "kernelspec": {
   "display_name": "Python 3 (ipykernel)",
   "language": "python",
   "name": "python3"
  },
  "language_info": {
   "codemirror_mode": {
    "name": "ipython",
    "version": 3
   },
   "file_extension": ".py",
   "mimetype": "text/x-python",
   "name": "python",
   "nbconvert_exporter": "python",
   "pygments_lexer": "ipython3",
   "version": "3.10.10"
  }
 },
 "nbformat": 4,
 "nbformat_minor": 5
}
